{
  "nbformat": 4,
  "nbformat_minor": 0,
  "metadata": {
    "colab": {
      "name": "DL_Assignment_Group109_PL9_FashionImages.ipynb",
      "provenance": [],
      "collapsed_sections": [],
      "authorship_tag": "ABX9TyM0Tq+/23cSqrS35oJprXWC",
      "include_colab_link": true
    },
    "kernelspec": {
      "name": "python3",
      "display_name": "Python 3"
    },
    "accelerator": "GPU"
  },
  "cells": [
    {
      "cell_type": "markdown",
      "metadata": {
        "id": "view-in-github",
        "colab_type": "text"
      },
      "source": [
        "<a href=\"https://colab.research.google.com/github/sumitdua10/tensorflow/blob/master/DL_Assignment_Group109_PL9_FashionImages.ipynb\" target=\"_parent\"><img src=\"https://colab.research.google.com/assets/colab-badge.svg\" alt=\"Open In Colab\"/></a>"
      ]
    },
    {
      "cell_type": "markdown",
      "metadata": {
        "id": "uzY-TjS07KGF"
      },
      "source": [
        "**1. Import Libraries/Dataset (0.25 mark)**\n",
        "\n",
        "*   Import required libraries (recommended- use tensorflow/keras library)\n",
        "*   Import the dataset (use Google Drive if required).\n",
        "*   Check the GPU available (recommended- use free GPU provided by Google Colab)\n"
      ]
    },
    {
      "cell_type": "code",
      "metadata": {
        "id": "MG5ONH-L52Iu",
        "outputId": "380b4cc3-36b1-4486-e08a-4d721b8b059e",
        "colab": {
          "base_uri": "https://localhost:8080/",
          "height": 50
        }
      },
      "source": [
        "# Import Libraries1\n",
        "import tensorflow as tf\n",
        "from tensorflow import keras\n",
        "import numpy as np\n",
        "import matplotlib.pyplot as plt\n",
        "from sklearn.metrics import classification_report\n",
        "from sklearn.metrics import confusion_matrix\n",
        "import time\n",
        "\n",
        "# print tensorflow version\n",
        "print('Tensorflow version:',tf.__version__)\n",
        "\n",
        "#Import Dataset\n",
        "fashion_mnist = keras.datasets.fashion_mnist\n",
        "(train_images, train_labels), (test_images, test_labels) = fashion_mnist.load_data()\n",
        "\n",
        "#Check if GPU available\n",
        "device_name = tf.test.gpu_device_name()\n",
        "if device_name != '/device:GPU:0':\n",
        "  print('GPU not available. No device found')\n",
        "else:\n",
        "  print('GPU Available. GPU found at: {}'.format(device_name))\n"
      ],
      "execution_count": null,
      "outputs": [
        {
          "output_type": "stream",
          "text": [
            "Tensorflow version: 2.3.0\n",
            "GPU Available. GPU found at: /device:GPU:0\n"
          ],
          "name": "stdout"
        }
      ]
    },
    {
      "cell_type": "markdown",
      "metadata": {
        "id": "6Jr2E5gtDbfw"
      },
      "source": [
        "**2. Data Visualization (0.25 mark)**\n",
        "\n",
        "a. Plot at least one sample from each class of the dataset (use matplotlib/seaborn/any other library).\n",
        "\n",
        "b. Print the shapes of train and test data."
      ]
    },
    {
      "cell_type": "code",
      "metadata": {
        "id": "dky3ZNLd_yJA",
        "outputId": "5f6b57a0-121d-461e-d79a-2128f56c71c3",
        "colab": {
          "base_uri": "https://localhost:8080/",
          "height": 353
        }
      },
      "source": [
        "#Print the shapes of train and test data\n",
        "print(\"Shape of Train Data: \",train_images.shape)\n",
        "print(\"Shape of Test Data: \",test_images.shape)\n",
        "\n",
        "plt.figure(figsize=(15,5))\n",
        "\n",
        "#Print one sample from each class.\n",
        "for j in range(10):\n",
        "    index = list(train_labels).index(j)\n",
        "    ax = plt.subplot(2, 5, j + 1)\n",
        "    plt.imshow(train_images[index])\n",
        "    plt.title(int(train_labels[index]))\n",
        "    plt.axis(\"off\")\n"
      ],
      "execution_count": null,
      "outputs": [
        {
          "output_type": "stream",
          "text": [
            "Shape of Train Data:  (60000, 28, 28)\n",
            "Shape of Test Data:  (10000, 28, 28)\n"
          ],
          "name": "stdout"
        },
        {
          "output_type": "display_data",
          "data": {
            "image/png": "[encoded data removed]",
            "text/plain": [
              "<Figure size 1080x360 with 10 Axes>"
            ]
          },
          "metadata": {
            "tags": [],
            "needs_background": "light"
          }
        }
      ]
    },
    {
      "cell_type": "markdown",
      "metadata": {
        "id": "GLDKlMi_DmhJ"
      },
      "source": [
        "**3. Data Pre-processing (0.25 mark)**\n",
        "\n",
        "a. Bring the train and test data in the required format."
      ]
    },
    {
      "cell_type": "code",
      "metadata": {
        "id": "jZoL2xw8ACDN"
      },
      "source": [
        "#Bring the train and test data in the required format.\n",
        "train_images = train_images / 255.0\n",
        "test_images = test_images / 255.0\n",
        "\n",
        "train_labels = train_labels / 1.0\n",
        "test_labels = test_labels / 1.0"
      ],
      "execution_count": null,
      "outputs": []
    },
    {
      "cell_type": "markdown",
      "metadata": {
        "id": "JWV8IhMgD7G9"
      },
      "source": [
        "**4. Model Building (0.2*5 = 1 mark)**\n",
        "\n",
        "a. Sequential Model layers- Use AT LEAST 3 dense layers with appropriate input for each. Choose the best number for hidden units and give reasons.\n",
        "\n",
        "b. Add L2 regularization to all the layers.\n",
        "\n",
        "c. Add one layer of dropout at the appropriate position and give reasons.\n",
        "\n",
        "d. Choose the appropriate activation function for all the layers.\n",
        "\n",
        "e. Print the model summary.\n"
      ]
    },
    {
      "cell_type": "code",
      "metadata": {
        "id": "5u5okdbqEBnS",
        "outputId": "77630e73-4364-410a-cfe5-c0af47df060e",
        "colab": {
          "base_uri": "https://localhost:8080/",
          "height": 353
        }
      },
      "source": [
        "model = keras.Sequential()\n",
        "model.add(keras.layers.Flatten(input_shape=(28,28)))\n",
        "#Selected relu function at all layers which works best with deep neural networks.\n",
        "model.add(keras.layers.Dense(256, activation=\"relu\", kernel_regularizer='L2'))\n",
        "model.add(keras.layers.Dense(128, activation=\"relu\", kernel_regularizer='L2'))\n",
        "#Added one layer of dropout. It's best to dropout layers in middle layers rather than at input or output layer. Becauase at input/ouput layer important weights can be dropped.\n",
        "model.add(keras.layers.Dropout(0.4))\n",
        "model.add(keras.layers.Dense(64, activation=\"relu\", kernel_regularizer='L2'))\n",
        "model.add(keras.layers.Dense(10))\n",
        "\n",
        "model.summary()"
      ],
      "execution_count": null,
      "outputs": [
        {
          "output_type": "stream",
          "text": [
            "Model: \"sequential_10\"\n",
            "_________________________________________________________________\n",
            "Layer (type)                 Output Shape              Param #   \n",
            "=================================================================\n",
            "flatten_10 (Flatten)         (None, 784)               0         \n",
            "_________________________________________________________________\n",
            "dense_40 (Dense)             (None, 256)               200960    \n",
            "_________________________________________________________________\n",
            "dense_41 (Dense)             (None, 128)               32896     \n",
            "_________________________________________________________________\n",
            "dropout_11 (Dropout)         (None, 128)               0         \n",
            "_________________________________________________________________\n",
            "dense_42 (Dense)             (None, 64)                8256      \n",
            "_________________________________________________________________\n",
            "dense_43 (Dense)             (None, 10)                650       \n",
            "=================================================================\n",
            "Total params: 242,762\n",
            "Trainable params: 242,762\n",
            "Non-trainable params: 0\n",
            "_________________________________________________________________\n"
          ],
          "name": "stdout"
        }
      ]
    },
    {
      "cell_type": "markdown",
      "metadata": {
        "id": "dttlYX_9IhSg"
      },
      "source": [
        "**5. Model Compilation (0.25 mark)**\n",
        "\n",
        "a. Compile the model with the appropriate loss function.\n",
        "\n",
        "b. Use an appropriate optimizer. Give reasons for the choice of learning rate and its value.\n",
        "\n",
        "c. Use accuracy as metric."
      ]
    },
    {
      "cell_type": "code",
      "metadata": {
        "id": "mE0DqU2DAyPe"
      },
      "source": [
        "#a Compile the model, optimizer and accuracy as metrics\n",
        "\n",
        "'''Adam optimizer is used. Unlike in stochastic gradient algo where learning rate remains fixed, in adam algoritm, learning rate adapts.  \n",
        "Instead of adapting the parameter learning rates based on the average first moment (the mean) as in RMSProp, Adam also makes use of the average of the second \n",
        "moments of the gradients (the uncentered variance). Specifically, the algorithm calculates an exponential moving average of the gradient and \n",
        "the squared gradient, and the parameters beta1 and beta2 control the decay rates of these moving averages.\n",
        "'''\n",
        "#Default learning rate of 0.001\n",
        "model.compile(optimizer=keras.optimizers.Adam(learning_rate=1e-3), loss=tf.keras.losses.SparseCategoricalCrossentropy(from_logits=True), metrics=['accuracy'])"
      ],
      "execution_count": null,
      "outputs": []
    },
    {
      "cell_type": "markdown",
      "metadata": {
        "id": "--WOvYVOKnEe"
      },
      "source": [
        "**6. Model Training (0.5 + 0.5 = 1 mark)**\n",
        "\n",
        "a. Train the model for an appropriate number of epochs (print the train and validation accuracy/loss for each epoch). Use the appropriate batch size.\n",
        "\n",
        "b. Plot the loss and accuracy history graphs. Print the total time taken for training."
      ]
    },
    {
      "cell_type": "code",
      "metadata": {
        "id": "5D6PlvxiJlrF",
        "outputId": "921e1a35-40ee-47c0-8bee-9e08a761ce85",
        "colab": {
          "base_uri": "https://localhost:8080/",
          "height": 1000
        }
      },
      "source": [
        "\n",
        "start_time=time.time()\n",
        "history = model.fit(train_images, train_labels, epochs=25, validation_split = 0.2, batch_size=60, verbose =1)\n",
        "training_time = time.time()-start_time\n",
        "\n",
        "plt.plot(history.history['accuracy'])\n",
        "plt.plot(history.history['val_accuracy'])\n",
        "plt.title('model accuracy')\n",
        "plt.ylabel('accuracy')\n",
        "plt.xlabel('epoch')\n",
        "plt.legend(['train', 'val'], loc='upper left')\n",
        "plt.show()\n",
        "\n",
        "plt.plot(history.history['loss'])\n",
        "plt.plot(history.history['val_loss'])\n",
        "plt.title('model loss')\n",
        "plt.ylabel('loss')\n",
        "plt.xlabel('epoch')\n",
        "plt.legend(['train', 'val'], loc='upper left')\n",
        "plt.show()\n",
        "\n",
        "\n",
        "print(\"\\nTime taken for training:{:5.2f} seconds\".format(training_time))"
      ],
      "execution_count": null,
      "outputs": [
        {
          "output_type": "stream",
          "text": [
            "Epoch 1/25\n",
            "800/800 [==============================] - 2s 3ms/step - loss: 1.6350 - accuracy: 0.7414 - val_loss: 0.9047 - val_accuracy: 0.8001\n",
            "Epoch 2/25\n",
            "800/800 [==============================] - 2s 2ms/step - loss: 0.8740 - accuracy: 0.7891 - val_loss: 0.7688 - val_accuracy: 0.8091\n",
            "Epoch 3/25\n",
            "800/800 [==============================] - 2s 3ms/step - loss: 0.8085 - accuracy: 0.7979 - val_loss: 0.7390 - val_accuracy: 0.8150\n",
            "Epoch 4/25\n",
            "800/800 [==============================] - 2s 3ms/step - loss: 0.7643 - accuracy: 0.8071 - val_loss: 0.7083 - val_accuracy: 0.8203\n",
            "Epoch 5/25\n",
            "800/800 [==============================] - 2s 3ms/step - loss: 0.7361 - accuracy: 0.8133 - val_loss: 0.6744 - val_accuracy: 0.8330\n",
            "Epoch 6/25\n",
            "800/800 [==============================] - 2s 3ms/step - loss: 0.7179 - accuracy: 0.8166 - val_loss: 0.6702 - val_accuracy: 0.8223\n",
            "Epoch 7/25\n",
            "800/800 [==============================] - 2s 3ms/step - loss: 0.6968 - accuracy: 0.8221 - val_loss: 0.6985 - val_accuracy: 0.8175\n",
            "Epoch 8/25\n",
            "800/800 [==============================] - 2s 3ms/step - loss: 0.6913 - accuracy: 0.8223 - val_loss: 0.6403 - val_accuracy: 0.8350\n",
            "Epoch 9/25\n",
            "800/800 [==============================] - 2s 3ms/step - loss: 0.6803 - accuracy: 0.8229 - val_loss: 0.6598 - val_accuracy: 0.8307\n",
            "Epoch 10/25\n",
            "800/800 [==============================] - 2s 3ms/step - loss: 0.6662 - accuracy: 0.8264 - val_loss: 0.6493 - val_accuracy: 0.8249\n",
            "Epoch 11/25\n",
            "800/800 [==============================] - 2s 3ms/step - loss: 0.6551 - accuracy: 0.8296 - val_loss: 0.6319 - val_accuracy: 0.8346\n",
            "Epoch 12/25\n",
            "800/800 [==============================] - 2s 3ms/step - loss: 0.6544 - accuracy: 0.8286 - val_loss: 0.6131 - val_accuracy: 0.8415\n",
            "Epoch 13/25\n",
            "800/800 [==============================] - 2s 3ms/step - loss: 0.6452 - accuracy: 0.8304 - val_loss: 0.6183 - val_accuracy: 0.8402\n",
            "Epoch 14/25\n",
            "800/800 [==============================] - 2s 3ms/step - loss: 0.6406 - accuracy: 0.8310 - val_loss: 0.6128 - val_accuracy: 0.8419\n",
            "Epoch 15/25\n",
            "800/800 [==============================] - 2s 3ms/step - loss: 0.6367 - accuracy: 0.8328 - val_loss: 0.6030 - val_accuracy: 0.8422\n",
            "Epoch 16/25\n",
            "800/800 [==============================] - 2s 3ms/step - loss: 0.6291 - accuracy: 0.8345 - val_loss: 0.6048 - val_accuracy: 0.8386\n",
            "Epoch 17/25\n",
            "800/800 [==============================] - 2s 3ms/step - loss: 0.6218 - accuracy: 0.8359 - val_loss: 0.5949 - val_accuracy: 0.8422\n",
            "Epoch 18/25\n",
            "800/800 [==============================] - 2s 3ms/step - loss: 0.6254 - accuracy: 0.8347 - val_loss: 0.6132 - val_accuracy: 0.8402\n",
            "Epoch 19/25\n",
            "800/800 [==============================] - 2s 3ms/step - loss: 0.6189 - accuracy: 0.8363 - val_loss: 0.5882 - val_accuracy: 0.8459\n",
            "Epoch 20/25\n",
            "800/800 [==============================] - 2s 3ms/step - loss: 0.6175 - accuracy: 0.8341 - val_loss: 0.5729 - val_accuracy: 0.8494\n",
            "Epoch 21/25\n",
            "800/800 [==============================] - 2s 2ms/step - loss: 0.6139 - accuracy: 0.8363 - val_loss: 0.6331 - val_accuracy: 0.8283\n",
            "Epoch 22/25\n",
            "800/800 [==============================] - 2s 3ms/step - loss: 0.6112 - accuracy: 0.8378 - val_loss: 0.5911 - val_accuracy: 0.8446\n",
            "Epoch 23/25\n",
            "800/800 [==============================] - 2s 3ms/step - loss: 0.6112 - accuracy: 0.8354 - val_loss: 0.6024 - val_accuracy: 0.8386\n",
            "Epoch 24/25\n",
            "800/800 [==============================] - 2s 3ms/step - loss: 0.6078 - accuracy: 0.8379 - val_loss: 0.5924 - val_accuracy: 0.8372\n",
            "Epoch 25/25\n",
            "800/800 [==============================] - 2s 3ms/step - loss: 0.6048 - accuracy: 0.8384 - val_loss: 0.5920 - val_accuracy: 0.8414\n"
          ],
          "name": "stdout"
        },
        {
          "output_type": "display_data",
          "data": {
            "image/png": "[encoded data removed]",
            "text/plain": [
              "<Figure size 432x288 with 1 Axes>"
            ]
          },
          "metadata": {
            "tags": [],
            "needs_background": "light"
          }
        },
        {
          "output_type": "display_data",
          "data": {
            "image/png": "[encoded data removed]",
            "text/plain": [
              "<Figure size 432x288 with 1 Axes>"
            ]
          },
          "metadata": {
            "tags": [],
            "needs_background": "light"
          }
        },
        {
          "output_type": "stream",
          "text": [
            "\n",
            "Time taken for training:51.39 seconds\n"
          ],
          "name": "stdout"
        }
      ]
    },
    {
      "cell_type": "markdown",
      "metadata": {
        "id": "ZO_FuB-5L95q"
      },
      "source": [
        "**7. Model Evaluation (0.25 + 0.75 = 1 mark)**\n",
        "\n",
        "a. Print the final test/validation loss and accuracy.\n",
        "\n",
        "b. Print confusion matrix and classification report for the validation dataset Write a summary for the best and worst performing class and the overall trend."
      ]
    },
    {
      "cell_type": "code",
      "metadata": {
        "id": "myK1-hQyLtVj",
        "outputId": "b1ed758a-0665-4b27-fde5-5d69bf908ea9",
        "colab": {
          "base_uri": "https://localhost:8080/",
          "height": 605
        }
      },
      "source": [
        "test_loss, test_acc = model.evaluate(test_images,  test_labels, verbose = 0)\n",
        "\n",
        "print(\"Test Loss: {:5.2f} \".format(test_loss))\n",
        "print('Test accuracy: {:5.2f}\\n'.format(test_acc))\n",
        "\n",
        "test_labels_pred = model.predict(test_images)\n",
        "test_labels_pred = np.argmax(test_labels_pred,axis=1)\n",
        "print(\"Confusion Matrix:\\n\")\n",
        "print(confusion_matrix(test_labels, test_labels_pred))\n",
        "\n",
        "print(\"\\n Classification Report:\\n\")\n",
        "\n",
        "print(classification_report(test_labels, test_labels_pred))\n"
      ],
      "execution_count": null,
      "outputs": [
        {
          "output_type": "stream",
          "text": [
            "Test Loss:  0.61 \n",
            "Test accuracy:  0.83\n",
            "\n",
            "Confusion Matrix:\n",
            "\n",
            "[[862   0   3  50   3   1  67   0  14   0]\n",
            " [  3 940   7  42   4   0   3   0   1   0]\n",
            " [ 33   0 648  18 200   0  94   0   7   0]\n",
            " [ 40   8   1 869  41   0  37   0   4   0]\n",
            " [  1   0  66  34 841   0  56   0   2   0]\n",
            " [  0   0   0   1   0 825   0 106   5  63]\n",
            " [224   2  84  38 142   1 489   0  20   0]\n",
            " [  0   0   0   0   0   9   0 970   0  21]\n",
            " [  7   1   3   6   3   6  15   7 952   0]\n",
            " [  0   0   0   0   0   2   0  74   1 923]]\n",
            "\n",
            " Classification Report:\n",
            "\n",
            "              precision    recall  f1-score   support\n",
            "\n",
            "         0.0       0.74      0.86      0.79      1000\n",
            "         1.0       0.99      0.94      0.96      1000\n",
            "         2.0       0.80      0.65      0.72      1000\n",
            "         3.0       0.82      0.87      0.84      1000\n",
            "         4.0       0.68      0.84      0.75      1000\n",
            "         5.0       0.98      0.82      0.89      1000\n",
            "         6.0       0.64      0.49      0.56      1000\n",
            "         7.0       0.84      0.97      0.90      1000\n",
            "         8.0       0.95      0.95      0.95      1000\n",
            "         9.0       0.92      0.92      0.92      1000\n",
            "\n",
            "    accuracy                           0.83     10000\n",
            "   macro avg       0.83      0.83      0.83     10000\n",
            "weighted avg       0.83      0.83      0.83     10000\n",
            "\n"
          ],
          "name": "stdout"
        }
      ]
    },
    {
      "cell_type": "markdown",
      "metadata": {
        "id": "AWFzTQQKUrv7"
      },
      "source": [
        "**Summary:**\n",
        "By looking at classification report, Class 8 has the highest F1 Score and Class 6 has lowest F1 Score. \n",
        "\n",
        "So we can say class 8 has most accurate classification and is the best performing clas. Class 6 has the worst performing class.."
      ]
    },
    {
      "cell_type": "markdown",
      "metadata": {
        "id": "v5fA4AclUdiZ"
      },
      "source": [
        "**Hyperparameter Tuning**- Build two more models by changing the following hyperparameters one at a time (0.5 + 0.5\n",
        "= 1 mark)\n",
        "Write the code for Model Building, Model Compilation, Model Training and Model Evaluation as given in the\n",
        "instructions above for each additional model.\n",
        "1. Dropout: Change the position and value of dropout layer\n",
        "2. Batch Size: Change the value of batch size in model training\n"
      ]
    },
    {
      "cell_type": "code",
      "metadata": {
        "id": "xjUdzO72MYCL",
        "outputId": "a844b226-4de2-4bec-b3fe-d09b8b2f2ef9",
        "colab": {
          "base_uri": "https://localhost:8080/",
          "height": 353
        }
      },
      "source": [
        "#Alternate Model 1 by changing the dropout from layer 3 to layer 2 and changing the dropout from 0.4 to 0.25\n",
        "\n",
        "model1 = keras.Sequential()\n",
        "model1.add(keras.layers.Flatten(input_shape=(28,28)))\n",
        "#Selected relu function at all layers which works best with deep neural networks.\n",
        "model1.add(keras.layers.Dense(256, activation=\"relu\", kernel_regularizer='L2'))\n",
        "model1.add(keras.layers.Dropout(0.25))\n",
        "model1.add(keras.layers.Dense(128, activation=\"relu\", kernel_regularizer='L2'))\n",
        "model1.add(keras.layers.Dense(64, activation=\"relu\", kernel_regularizer='L2'))\n",
        "model1.add(keras.layers.Dense(10))\n",
        "\n",
        "model1.summary()"
      ],
      "execution_count": null,
      "outputs": [
        {
          "output_type": "stream",
          "text": [
            "Model: \"sequential_11\"\n",
            "_________________________________________________________________\n",
            "Layer (type)                 Output Shape              Param #   \n",
            "=================================================================\n",
            "flatten_11 (Flatten)         (None, 784)               0         \n",
            "_________________________________________________________________\n",
            "dense_44 (Dense)             (None, 256)               200960    \n",
            "_________________________________________________________________\n",
            "dropout_12 (Dropout)         (None, 256)               0         \n",
            "_________________________________________________________________\n",
            "dense_45 (Dense)             (None, 128)               32896     \n",
            "_________________________________________________________________\n",
            "dense_46 (Dense)             (None, 64)                8256      \n",
            "_________________________________________________________________\n",
            "dense_47 (Dense)             (None, 10)                650       \n",
            "=================================================================\n",
            "Total params: 242,762\n",
            "Trainable params: 242,762\n",
            "Non-trainable params: 0\n",
            "_________________________________________________________________\n"
          ],
          "name": "stdout"
        }
      ]
    },
    {
      "cell_type": "code",
      "metadata": {
        "id": "I8yJAINKrFnF",
        "outputId": "6f852855-621f-4a4e-8293-a1f8dbd295a9",
        "colab": {
          "base_uri": "https://localhost:8080/",
          "height": 1000
        }
      },
      "source": [
        "#a Compile the model, optimizer and accuracy as metrics\n",
        "\n",
        "'''Adam optimizer is used. Unlike in stochastic gradient algo where learning rate remains fixed, in adam algoritm, learning rate adapts.  \n",
        "Instead of adapting the parameter learning rates based on the average first moment (the mean) as in RMSProp, Adam also makes use of the average of the second \n",
        "moments of the gradients (the uncentered variance). Specifically, the algorithm calculates an exponential moving average of the gradient and \n",
        "the squared gradient, and the parameters beta1 and beta2 control the decay rates of these moving averages.\n",
        "'''\n",
        "#Default learning rate of 0.001\n",
        "model1.compile(optimizer=keras.optimizers.Adam(learning_rate=1e-3), loss=tf.keras.losses.SparseCategoricalCrossentropy(from_logits=True), metrics=['accuracy'])\n",
        "\n",
        "start_time=time.time()\n",
        "history = model1.fit(train_images, train_labels, epochs=25, validation_split = 0.2, batch_size=60, verbose =1)\n",
        "training_time = time.time()-start_time\n",
        "\n",
        "plt.plot(history.history['accuracy'])\n",
        "plt.plot(history.history['val_accuracy'])\n",
        "plt.title('model accuracy')\n",
        "plt.ylabel('accuracy')\n",
        "plt.xlabel('epoch')\n",
        "plt.legend(['train', 'val'], loc='upper left')\n",
        "plt.show()\n",
        "\n",
        "plt.plot(history.history['loss'])\n",
        "plt.plot(history.history['val_loss'])\n",
        "plt.title('model loss')\n",
        "plt.ylabel('loss')\n",
        "plt.xlabel('epoch')\n",
        "plt.legend(['train', 'val'], loc='upper left')\n",
        "plt.show()\n",
        "print(\"\\nTime taken for training:{:5.2f} seconds\".format(training_time))"
      ],
      "execution_count": null,
      "outputs": [
        {
          "output_type": "stream",
          "text": [
            "Epoch 1/25\n",
            "800/800 [==============================] - 2s 3ms/step - loss: 1.6655 - accuracy: 0.7545 - val_loss: 0.8945 - val_accuracy: 0.8095\n",
            "Epoch 2/25\n",
            "800/800 [==============================] - 2s 3ms/step - loss: 0.8950 - accuracy: 0.7881 - val_loss: 0.8555 - val_accuracy: 0.7945\n",
            "Epoch 3/25\n",
            "800/800 [==============================] - 2s 2ms/step - loss: 0.8315 - accuracy: 0.7949 - val_loss: 0.8002 - val_accuracy: 0.8018\n",
            "Epoch 4/25\n",
            "800/800 [==============================] - 2s 2ms/step - loss: 0.8014 - accuracy: 0.7989 - val_loss: 0.7690 - val_accuracy: 0.8042\n",
            "Epoch 5/25\n",
            "800/800 [==============================] - 2s 3ms/step - loss: 0.7891 - accuracy: 0.7977 - val_loss: 0.7215 - val_accuracy: 0.8200\n",
            "Epoch 6/25\n",
            "800/800 [==============================] - 2s 3ms/step - loss: 0.7691 - accuracy: 0.8022 - val_loss: 0.7311 - val_accuracy: 0.8034\n",
            "Epoch 7/25\n",
            "800/800 [==============================] - 2s 3ms/step - loss: 0.7622 - accuracy: 0.7990 - val_loss: 0.7164 - val_accuracy: 0.8198\n",
            "Epoch 8/25\n",
            "800/800 [==============================] - 2s 3ms/step - loss: 0.7411 - accuracy: 0.8068 - val_loss: 0.7443 - val_accuracy: 0.8037\n",
            "Epoch 9/25\n",
            "800/800 [==============================] - 2s 3ms/step - loss: 0.7349 - accuracy: 0.8059 - val_loss: 0.6789 - val_accuracy: 0.8208\n",
            "Epoch 10/25\n",
            "800/800 [==============================] - 2s 3ms/step - loss: 0.7245 - accuracy: 0.8096 - val_loss: 0.7533 - val_accuracy: 0.7873\n",
            "Epoch 11/25\n",
            "800/800 [==============================] - 2s 3ms/step - loss: 0.7217 - accuracy: 0.8102 - val_loss: 0.6661 - val_accuracy: 0.8316\n",
            "Epoch 12/25\n",
            "800/800 [==============================] - 2s 3ms/step - loss: 0.7096 - accuracy: 0.8101 - val_loss: 0.6806 - val_accuracy: 0.8173\n",
            "Epoch 13/25\n",
            "800/800 [==============================] - 2s 2ms/step - loss: 0.7084 - accuracy: 0.8120 - val_loss: 0.6459 - val_accuracy: 0.8306\n",
            "Epoch 14/25\n",
            "800/800 [==============================] - 2s 3ms/step - loss: 0.7084 - accuracy: 0.8092 - val_loss: 0.6638 - val_accuracy: 0.8275\n",
            "Epoch 15/25\n",
            "800/800 [==============================] - 2s 2ms/step - loss: 0.6984 - accuracy: 0.8132 - val_loss: 0.6646 - val_accuracy: 0.8232\n",
            "Epoch 16/25\n",
            "800/800 [==============================] - 2s 2ms/step - loss: 0.6946 - accuracy: 0.8143 - val_loss: 0.6730 - val_accuracy: 0.8287\n",
            "Epoch 17/25\n",
            "800/800 [==============================] - 2s 2ms/step - loss: 0.6920 - accuracy: 0.8134 - val_loss: 0.6494 - val_accuracy: 0.8221\n",
            "Epoch 18/25\n",
            "800/800 [==============================] - 2s 3ms/step - loss: 0.6891 - accuracy: 0.8125 - val_loss: 0.6569 - val_accuracy: 0.8320\n",
            "Epoch 19/25\n",
            "800/800 [==============================] - 2s 2ms/step - loss: 0.6866 - accuracy: 0.8135 - val_loss: 0.6456 - val_accuracy: 0.8296\n",
            "Epoch 20/25\n",
            "800/800 [==============================] - 2s 2ms/step - loss: 0.6849 - accuracy: 0.8150 - val_loss: 0.6567 - val_accuracy: 0.8228\n",
            "Epoch 21/25\n",
            "800/800 [==============================] - 2s 3ms/step - loss: 0.6769 - accuracy: 0.8182 - val_loss: 0.6488 - val_accuracy: 0.8243\n",
            "Epoch 22/25\n",
            "800/800 [==============================] - 2s 2ms/step - loss: 0.6798 - accuracy: 0.8142 - val_loss: 0.6402 - val_accuracy: 0.8243\n",
            "Epoch 23/25\n",
            "800/800 [==============================] - 2s 3ms/step - loss: 0.6815 - accuracy: 0.8151 - val_loss: 0.6555 - val_accuracy: 0.8211\n",
            "Epoch 24/25\n",
            "800/800 [==============================] - 2s 3ms/step - loss: 0.6710 - accuracy: 0.8174 - val_loss: 0.6700 - val_accuracy: 0.8082\n",
            "Epoch 25/25\n",
            "800/800 [==============================] - 2s 2ms/step - loss: 0.6767 - accuracy: 0.8127 - val_loss: 0.6471 - val_accuracy: 0.8226\n"
          ],
          "name": "stdout"
        },
        {
          "output_type": "display_data",
          "data": {
            "image/png": "[encoded data removed]",
            "text/plain": [
              "<Figure size 432x288 with 1 Axes>"
            ]
          },
          "metadata": {
            "tags": [],
            "needs_background": "light"
          }
        },
        {
          "output_type": "display_data",
          "data": {
            "image/png": "[encoded data removed]",
            "text/plain": [
              "<Figure size 432x288 with 1 Axes>"
            ]
          },
          "metadata": {
            "tags": [],
            "needs_background": "light"
          }
        },
        {
          "output_type": "stream",
          "text": [
            "\n",
            "Time taken for training:50.88 seconds\n"
          ],
          "name": "stdout"
        }
      ]
    },
    {
      "cell_type": "code",
      "metadata": {
        "id": "xd3B2ivhWBxz",
        "outputId": "12a3f362-b8cb-47fb-8ac1-b67eb97e0688",
        "colab": {
          "base_uri": "https://localhost:8080/",
          "height": 605
        }
      },
      "source": [
        "test_loss, test_acc = model1.evaluate(test_images,  test_labels, verbose = 0)\n",
        "\n",
        "print(\"Test Loss: {:5.2f} \".format(test_loss))\n",
        "print('Test accuracy: {:5.2f}\\n'.format(test_acc))\n",
        "\n",
        "test_labels_pred = model.predict(test_images)\n",
        "test_labels_pred = np.argmax(test_labels_pred,axis=1)\n",
        "print(\"Confusion Matrix:\\n\")\n",
        "print(confusion_matrix(test_labels, test_labels_pred))\n",
        "\n",
        "print(\"\\n Classification Report:\\n\")\n",
        "\n",
        "print(classification_report(test_labels, test_labels_pred))"
      ],
      "execution_count": null,
      "outputs": [
        {
          "output_type": "stream",
          "text": [
            "Test Loss:  0.68 \n",
            "Test accuracy:  0.81\n",
            "\n",
            "Confusion Matrix:\n",
            "\n",
            "[[862   0   3  50   3   1  67   0  14   0]\n",
            " [  3 940   7  42   4   0   3   0   1   0]\n",
            " [ 33   0 648  18 200   0  94   0   7   0]\n",
            " [ 40   8   1 869  41   0  37   0   4   0]\n",
            " [  1   0  66  34 841   0  56   0   2   0]\n",
            " [  0   0   0   1   0 825   0 106   5  63]\n",
            " [224   2  84  38 142   1 489   0  20   0]\n",
            " [  0   0   0   0   0   9   0 970   0  21]\n",
            " [  7   1   3   6   3   6  15   7 952   0]\n",
            " [  0   0   0   0   0   2   0  74   1 923]]\n",
            "\n",
            " Classification Report:\n",
            "\n",
            "              precision    recall  f1-score   support\n",
            "\n",
            "         0.0       0.74      0.86      0.79      1000\n",
            "         1.0       0.99      0.94      0.96      1000\n",
            "         2.0       0.80      0.65      0.72      1000\n",
            "         3.0       0.82      0.87      0.84      1000\n",
            "         4.0       0.68      0.84      0.75      1000\n",
            "         5.0       0.98      0.82      0.89      1000\n",
            "         6.0       0.64      0.49      0.56      1000\n",
            "         7.0       0.84      0.97      0.90      1000\n",
            "         8.0       0.95      0.95      0.95      1000\n",
            "         9.0       0.92      0.92      0.92      1000\n",
            "\n",
            "    accuracy                           0.83     10000\n",
            "   macro avg       0.83      0.83      0.83     10000\n",
            "weighted avg       0.83      0.83      0.83     10000\n",
            "\n"
          ],
          "name": "stdout"
        }
      ]
    },
    {
      "cell_type": "code",
      "metadata": {
        "id": "tcZemcK1We9s",
        "outputId": "c6e499b0-9f32-4bce-a37f-455ba2ff72fb",
        "colab": {
          "base_uri": "https://localhost:8080/",
          "height": 353
        }
      },
      "source": [
        "#Alternate Model 2 by changing the batch size from 60 to 100 \n",
        "\n",
        "model2 = keras.Sequential()\n",
        "model2.add(keras.layers.Flatten(input_shape=(28,28)))\n",
        "#Selected relu function at all layers which works best with deep neural networks.\n",
        "model2.add(keras.layers.Dense(256, activation=\"relu\", kernel_regularizer='L2'))\n",
        "model2.add(keras.layers.Dense(128, activation=\"relu\", kernel_regularizer='L2'))\n",
        "model2.add(keras.layers.Dropout(0.4))\n",
        "model2.add(keras.layers.Dense(64, activation=\"relu\", kernel_regularizer='L2'))\n",
        "model2.add(keras.layers.Dense(10))\n",
        "\n",
        "model2.summary()"
      ],
      "execution_count": null,
      "outputs": [
        {
          "output_type": "stream",
          "text": [
            "Model: \"sequential_12\"\n",
            "_________________________________________________________________\n",
            "Layer (type)                 Output Shape              Param #   \n",
            "=================================================================\n",
            "flatten_12 (Flatten)         (None, 784)               0         \n",
            "_________________________________________________________________\n",
            "dense_48 (Dense)             (None, 256)               200960    \n",
            "_________________________________________________________________\n",
            "dense_49 (Dense)             (None, 128)               32896     \n",
            "_________________________________________________________________\n",
            "dropout_13 (Dropout)         (None, 128)               0         \n",
            "_________________________________________________________________\n",
            "dense_50 (Dense)             (None, 64)                8256      \n",
            "_________________________________________________________________\n",
            "dense_51 (Dense)             (None, 10)                650       \n",
            "=================================================================\n",
            "Total params: 242,762\n",
            "Trainable params: 242,762\n",
            "Non-trainable params: 0\n",
            "_________________________________________________________________\n"
          ],
          "name": "stdout"
        }
      ]
    },
    {
      "cell_type": "code",
      "metadata": {
        "id": "4mBBLQkZXAHn",
        "outputId": "632260e0-0694-4d95-9ef1-92b4ad5f9b01",
        "colab": {
          "base_uri": "https://localhost:8080/",
          "height": 1000
        }
      },
      "source": [
        "#a Compile the model, optimizer and accuracy as metrics\n",
        "\n",
        "'''Adam optimizer is used. Unlike in stochastic gradient algo where learning rate remains fixed, in adam algoritm, learning rate adapts.  \n",
        "Instead of adapting the parameter learning rates based on the average first moment (the mean) as in RMSProp, Adam also makes use of the average of the second \n",
        "moments of the gradients (the uncentered variance). Specifically, the algorithm calculates an exponential moving average of the gradient and \n",
        "the squared gradient, and the parameters beta1 and beta2 control the decay rates of these moving averages.\n",
        "'''\n",
        "#Default learning rate of 0.001\n",
        "model2.compile(optimizer=keras.optimizers.Adam(learning_rate=1e-3), loss=tf.keras.losses.SparseCategoricalCrossentropy(from_logits=True), metrics=['accuracy'])\n",
        "\n",
        "start_time=time.time()\n",
        "#Changed batch size from 60 to 100. Rest everything remains same.\n",
        "history = model2.fit(train_images, train_labels, epochs=25, validation_split = 0.2, batch_size=100, verbose =1)\n",
        "training_time = time.time()-start_time\n",
        "\n",
        "plt.plot(history.history['accuracy'])\n",
        "plt.plot(history.history['val_accuracy'])\n",
        "plt.title('model accuracy')\n",
        "plt.ylabel('accuracy')\n",
        "plt.xlabel('epoch')\n",
        "plt.legend(['train', 'val'], loc='upper left')\n",
        "plt.show()\n",
        "\n",
        "plt.plot(history.history['loss'])\n",
        "plt.plot(history.history['val_loss'])\n",
        "plt.title('model loss')\n",
        "plt.ylabel('loss')\n",
        "plt.xlabel('epoch')\n",
        "plt.legend(['train', 'val'], loc='upper left')\n",
        "plt.show()\n",
        "print(\"\\nTime taken for training:{:5.2f} seconds\".format(training_time))"
      ],
      "execution_count": null,
      "outputs": [
        {
          "output_type": "stream",
          "text": [
            "Epoch 1/25\n",
            "480/480 [==============================] - 1s 3ms/step - loss: 1.9157 - accuracy: 0.7430 - val_loss: 0.9475 - val_accuracy: 0.7937\n",
            "Epoch 2/25\n",
            "480/480 [==============================] - 1s 3ms/step - loss: 0.9088 - accuracy: 0.7952 - val_loss: 0.7912 - val_accuracy: 0.8192\n",
            "Epoch 3/25\n",
            "480/480 [==============================] - 1s 3ms/step - loss: 0.8285 - accuracy: 0.8003 - val_loss: 0.7620 - val_accuracy: 0.8228\n",
            "Epoch 4/25\n",
            "480/480 [==============================] - 1s 3ms/step - loss: 0.7875 - accuracy: 0.8081 - val_loss: 0.7323 - val_accuracy: 0.8270\n",
            "Epoch 5/25\n",
            "480/480 [==============================] - 1s 3ms/step - loss: 0.7568 - accuracy: 0.8141 - val_loss: 0.7057 - val_accuracy: 0.8282\n",
            "Epoch 6/25\n",
            "480/480 [==============================] - 1s 3ms/step - loss: 0.7291 - accuracy: 0.8194 - val_loss: 0.6885 - val_accuracy: 0.8326\n",
            "Epoch 7/25\n",
            "480/480 [==============================] - 1s 3ms/step - loss: 0.7148 - accuracy: 0.8229 - val_loss: 0.6840 - val_accuracy: 0.8278\n",
            "Epoch 8/25\n",
            "480/480 [==============================] - 1s 3ms/step - loss: 0.6996 - accuracy: 0.8263 - val_loss: 0.6919 - val_accuracy: 0.8300\n",
            "Epoch 9/25\n",
            "480/480 [==============================] - 1s 3ms/step - loss: 0.6819 - accuracy: 0.8291 - val_loss: 0.6513 - val_accuracy: 0.8428\n",
            "Epoch 10/25\n",
            "480/480 [==============================] - 1s 3ms/step - loss: 0.6715 - accuracy: 0.8331 - val_loss: 0.6429 - val_accuracy: 0.8362\n",
            "Epoch 11/25\n",
            "480/480 [==============================] - 1s 3ms/step - loss: 0.6669 - accuracy: 0.8332 - val_loss: 0.6317 - val_accuracy: 0.8434\n",
            "Epoch 12/25\n",
            "480/480 [==============================] - 1s 3ms/step - loss: 0.6509 - accuracy: 0.8367 - val_loss: 0.6193 - val_accuracy: 0.8482\n",
            "Epoch 13/25\n",
            "480/480 [==============================] - 1s 3ms/step - loss: 0.6448 - accuracy: 0.8369 - val_loss: 0.6140 - val_accuracy: 0.8462\n",
            "Epoch 14/25\n",
            "480/480 [==============================] - 1s 3ms/step - loss: 0.6397 - accuracy: 0.8366 - val_loss: 0.6079 - val_accuracy: 0.8440\n",
            "Epoch 15/25\n",
            "480/480 [==============================] - 1s 3ms/step - loss: 0.6336 - accuracy: 0.8403 - val_loss: 0.6269 - val_accuracy: 0.8390\n",
            "Epoch 16/25\n",
            "480/480 [==============================] - 1s 3ms/step - loss: 0.6267 - accuracy: 0.8406 - val_loss: 0.6137 - val_accuracy: 0.8436\n",
            "Epoch 17/25\n",
            "480/480 [==============================] - 1s 3ms/step - loss: 0.6245 - accuracy: 0.8386 - val_loss: 0.6080 - val_accuracy: 0.8418\n",
            "Epoch 18/25\n",
            "480/480 [==============================] - 1s 3ms/step - loss: 0.6208 - accuracy: 0.8393 - val_loss: 0.6053 - val_accuracy: 0.8431\n",
            "Epoch 19/25\n",
            "480/480 [==============================] - 1s 3ms/step - loss: 0.6167 - accuracy: 0.8411 - val_loss: 0.5966 - val_accuracy: 0.8485\n",
            "Epoch 20/25\n",
            "480/480 [==============================] - 1s 3ms/step - loss: 0.6138 - accuracy: 0.8425 - val_loss: 0.5986 - val_accuracy: 0.8462\n",
            "Epoch 21/25\n",
            "480/480 [==============================] - 1s 3ms/step - loss: 0.6098 - accuracy: 0.8420 - val_loss: 0.5814 - val_accuracy: 0.8547\n",
            "Epoch 22/25\n",
            "480/480 [==============================] - 1s 3ms/step - loss: 0.6072 - accuracy: 0.8418 - val_loss: 0.6034 - val_accuracy: 0.8399\n",
            "Epoch 23/25\n",
            "480/480 [==============================] - 1s 3ms/step - loss: 0.6072 - accuracy: 0.8443 - val_loss: 0.5771 - val_accuracy: 0.8522\n",
            "Epoch 24/25\n",
            "480/480 [==============================] - 1s 3ms/step - loss: 0.5992 - accuracy: 0.8453 - val_loss: 0.5905 - val_accuracy: 0.8471\n",
            "Epoch 25/25\n",
            "480/480 [==============================] - 1s 3ms/step - loss: 0.5965 - accuracy: 0.8455 - val_loss: 0.5612 - val_accuracy: 0.8562\n"
          ],
          "name": "stdout"
        },
        {
          "output_type": "display_data",
          "data": {
            "image/png": "[encoded data removed]",
            "text/plain": [
              "<Figure size 432x288 with 1 Axes>"
            ]
          },
          "metadata": {
            "tags": [],
            "needs_background": "light"
          }
        },
        {
          "output_type": "display_data",
          "data": {
            "image/png": "[encoded data removed]",
            "text/plain": [
              "<Figure size 432x288 with 1 Axes>"
            ]
          },
          "metadata": {
            "tags": [],
            "needs_background": "light"
          }
        },
        {
          "output_type": "stream",
          "text": [
            "\n",
            "Time taken for training:32.65 seconds\n"
          ],
          "name": "stdout"
        }
      ]
    },
    {
      "cell_type": "code",
      "metadata": {
        "id": "zcKqZyFsXHEs",
        "outputId": "839dd4d6-9dc0-4248-df2f-9a1d3f4fde95",
        "colab": {
          "base_uri": "https://localhost:8080/",
          "height": 605
        }
      },
      "source": [
        "test_loss, test_acc = model2.evaluate(test_images,  test_labels, verbose = 0)\n",
        "\n",
        "print(\"Test Loss: {:5.2f} \".format(test_loss))\n",
        "print('Test accuracy: {:5.2f}\\n'.format(test_acc))\n",
        "\n",
        "test_labels_pred = model.predict(test_images)\n",
        "test_labels_pred = np.argmax(test_labels_pred,axis=1)\n",
        "print(\"Confusion Matrix:\\n\")\n",
        "print(confusion_matrix(test_labels, test_labels_pred))\n",
        "\n",
        "print(\"\\n Classification Report:\\n\")\n",
        "\n",
        "print(classification_report(test_labels, test_labels_pred))"
      ],
      "execution_count": null,
      "outputs": [
        {
          "output_type": "stream",
          "text": [
            "Test Loss:  0.59 \n",
            "Test accuracy:  0.84\n",
            "\n",
            "Confusion Matrix:\n",
            "\n",
            "[[862   0   3  50   3   1  67   0  14   0]\n",
            " [  3 940   7  42   4   0   3   0   1   0]\n",
            " [ 33   0 648  18 200   0  94   0   7   0]\n",
            " [ 40   8   1 869  41   0  37   0   4   0]\n",
            " [  1   0  66  34 841   0  56   0   2   0]\n",
            " [  0   0   0   1   0 825   0 106   5  63]\n",
            " [224   2  84  38 142   1 489   0  20   0]\n",
            " [  0   0   0   0   0   9   0 970   0  21]\n",
            " [  7   1   3   6   3   6  15   7 952   0]\n",
            " [  0   0   0   0   0   2   0  74   1 923]]\n",
            "\n",
            " Classification Report:\n",
            "\n",
            "              precision    recall  f1-score   support\n",
            "\n",
            "         0.0       0.74      0.86      0.79      1000\n",
            "         1.0       0.99      0.94      0.96      1000\n",
            "         2.0       0.80      0.65      0.72      1000\n",
            "         3.0       0.82      0.87      0.84      1000\n",
            "         4.0       0.68      0.84      0.75      1000\n",
            "         5.0       0.98      0.82      0.89      1000\n",
            "         6.0       0.64      0.49      0.56      1000\n",
            "         7.0       0.84      0.97      0.90      1000\n",
            "         8.0       0.95      0.95      0.95      1000\n",
            "         9.0       0.92      0.92      0.92      1000\n",
            "\n",
            "    accuracy                           0.83     10000\n",
            "   macro avg       0.83      0.83      0.83     10000\n",
            "weighted avg       0.83      0.83      0.83     10000\n",
            "\n"
          ],
          "name": "stdout"
        }
      ]
    },
    {
      "cell_type": "markdown",
      "metadata": {
        "id": "A3Wam36rXd23"
      },
      "source": [
        "**Summary:**\n",
        "\n",
        "Original Model and Hpyerparameter tuned model based on batch size accuracy and loss is almost equal. \n",
        "\n",
        "However on changing the dropout the accuracy decreased from 0.84 to 0.81. \n",
        "\n",
        "State of art model accuracy is more than 0.9 which can be achieved using more advanced models like CNN."
      ]
    }
  ]
}